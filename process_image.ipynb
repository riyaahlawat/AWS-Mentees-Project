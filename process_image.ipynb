{
 "cells": [
  {
   "cell_type": "code",
   "execution_count": 1,
   "metadata": {},
   "outputs": [],
   "source": [
    "import numpy as np\n",
    "import matplotlib.pyplot as plt\n",
    "import cv2\n",
    "import os"
   ]
  },
  {
   "cell_type": "code",
   "execution_count": null,
   "metadata": {},
   "outputs": [],
   "source": [
    "def preprocess_image(image):\n",
    "    ori = image.copy()\n",
    "    image = cv2.resize(image, (128, 128))\n",
    "    hsv_image = cv2.cvtColor(image, cv2.COLOR_BGR2HSV)\n",
    "\n",
    "    # Define the lower and upper range for skin color in HSV\n",
    "    lower_skin = (0, 20, 70)   # Adjust as per the skin tone\n",
    "    upper_skin = (20, 255, 255)\n",
    "\n",
    "    # Create a mask for skin color\n",
    "    skin_mask = cv2.inRange(hsv_image, lower_skin, upper_skin)\n",
    "\n",
    "    # Apply morphological operations to clean up the mask\n",
    "    kernel = cv2.getStructuringElement(cv2.MORPH_ELLIPSE, (5, 5))\n",
    "    skin_mask = cv2.erode(skin_mask, kernel, iterations=2)\n",
    "    skin_mask = cv2.dilate(skin_mask, kernel, iterations=2)\n",
    "\n",
    "    # Blur the mask for smoother edges\n",
    "    skin_mask = cv2.GaussianBlur(skin_mask, (5, 5), 0)\n",
    "\n",
    "    # Detect edges in the mask\n",
    "    edges = cv2.Canny(skin_mask, 100, 200)\n",
    "\n",
    "    return edges"
   ]
  },
  {
   "cell_type": "code",
   "execution_count": 3,
   "metadata": {},
   "outputs": [],
   "source": [
    "# Define the base directory and the new directory for processed images\n",
    "base_dir = 'Indian'\n",
    "processed_dir = 'processed_images'\n",
    "\n",
    "# Create the processed images directory if it doesn't exist\n",
    "if not os.path.exists(processed_dir):\n",
    "    os.makedirs(processed_dir)\n",
    "\n",
    "# Iterate through the class directories in the base directory\n",
    "for class_name in os.listdir(base_dir):\n",
    "    class_dir = os.path.join(base_dir, class_name)\n",
    "    processed_class_dir = os.path.join(processed_dir, class_name)\n",
    "    \n",
    "    # Create the class directory in the processed images directory if it doesn't exist\n",
    "    if not os.path.exists(processed_class_dir):\n",
    "        os.makedirs(processed_class_dir)\n",
    "    \n",
    "    # Iterate through the image files in the class directory\n",
    "    for file_name in os.listdir(class_dir):\n",
    "        file_path = os.path.join(class_dir, file_name)\n",
    "        \n",
    "        if file_name.lower().endswith(('.png', '.jpg', '.jpeg')):\n",
    "            # Read the image\n",
    "            image = cv2.imread(file_path)\n",
    "            \n",
    "            # Preprocess the image\n",
    "            processed_image = preprocess_image(image)\n",
    "            \n",
    "            # Save the processed image in the new directory\n",
    "            processed_file_path = os.path.join(processed_class_dir, file_name)\n",
    "            cv2.imwrite(processed_file_path, processed_image)"
   ]
  }
 ],
 "metadata": {
  "kernelspec": {
   "display_name": "Python 3",
   "language": "python",
   "name": "python3"
  },
  "language_info": {
   "codemirror_mode": {
    "name": "ipython",
    "version": 3
   },
   "file_extension": ".py",
   "mimetype": "text/x-python",
   "name": "python",
   "nbconvert_exporter": "python",
   "pygments_lexer": "ipython3",
   "version": "3.12.7"
  }
 },
 "nbformat": 4,
 "nbformat_minor": 2
}
